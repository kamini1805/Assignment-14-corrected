{
 "cells": [
  {
   "cell_type": "code",
   "execution_count": 1,
   "metadata": {},
   "outputs": [],
   "source": [
    "import pandas as pd\n",
    "import selenium\n",
    "from selenium import webdriver\n",
    "from selenium.webdriver.common.keys import Keys\n",
    "import time"
   ]
  },
  {
   "cell_type": "code",
   "execution_count": 2,
   "metadata": {},
   "outputs": [],
   "source": [
    "driver=webdriver.Chrome(r\"C:\\Users\\dell\\Downloads\\chromedriver_win32\\chromedriver.exe\")\n",
    "driver.get(\"https://in.indeed.com/\")\n",
    "time.sleep(2)"
   ]
  },
  {
   "cell_type": "code",
   "execution_count": 3,
   "metadata": {},
   "outputs": [],
   "source": [
    "driver.maximize_window()"
   ]
  },
  {
   "cell_type": "code",
   "execution_count": 4,
   "metadata": {},
   "outputs": [],
   "source": [
    "driver.find_element_by_id(\"text-input-what\").send_keys(\"Data Analyst\")\n",
    "time.sleep(2)\n",
    "driver.find_element_by_id(\"text-input-where\").send_keys(\"Bangalore\")\n",
    "time.sleep(2)\n",
    "driver.find_element_by_xpath(\"//button[@class='icl-Button icl-Button--primary icl-Button--md icl-WhatWhere-button']\").click()"
   ]
  },
  {
   "cell_type": "code",
   "execution_count": 5,
   "metadata": {},
   "outputs": [],
   "source": [
    "# creating empty list for scraped data\n",
    "Job_title=[]\n",
    "Company_name=[]\n",
    "Location=[]\n",
    "Salary=[]\n",
    "Date_of_jobpost=[]"
   ]
  },
  {
   "cell_type": "code",
   "execution_count": 6,
   "metadata": {},
   "outputs": [
    {
     "data": {
      "text/plain": [
       "['Data Analyst',\n",
       " 'Data Analyst',\n",
       " 'Senior Data Analyst',\n",
       " 'Product Analyst',\n",
       " 'Data Analyst/BI Developer',\n",
       " 'Data Analyst',\n",
       " 'Intern Data Analyst',\n",
       " 'Data Analyst',\n",
       " 'Data Analyst',\n",
       " 'Data analyst',\n",
       " 'Data Analyst – Excel Operators',\n",
       " 'Product Analyst, Data & Analytics',\n",
       " 'Web Scraping – Data Analyst',\n",
       " 'Associate - Data Analyst ( Growth)',\n",
       " 'Data Analytics Internship']"
      ]
     },
     "execution_count": 6,
     "metadata": {},
     "output_type": "execute_result"
    }
   ],
   "source": [
    "#scarping job title\n",
    "designation=driver.find_elements_by_xpath(\"//a[@class='jobtitle turnstileLink ']\")\n",
    "for i in designation:\n",
    "    if i.text is None:\n",
    "        Job_title.append(\"--\")\n",
    "    else:\n",
    "        Job_title.append(i.text)\n",
    "\n",
    "Job_title           "
   ]
  },
  {
   "cell_type": "code",
   "execution_count": 7,
   "metadata": {},
   "outputs": [
    {
     "data": {
      "text/plain": [
       "['aapkapainter.com',\n",
       " 'Trane Technologies',\n",
       " 'Ian Martin Group',\n",
       " 'Bombinate Technologies (Koo App)',\n",
       " 'Daemon software and services',\n",
       " 'Sims Recycling Solutions',\n",
       " 'Aimleap',\n",
       " 'Honeywell',\n",
       " 'TARGET',\n",
       " 'Harman International',\n",
       " 'Aimleap- Outsource Big Data',\n",
       " 'Cisco Systems',\n",
       " 'Aimleap',\n",
       " 'Myntra.com',\n",
       " 'Winuall']"
      ]
     },
     "execution_count": 7,
     "metadata": {},
     "output_type": "execute_result"
    }
   ],
   "source": [
    "#scraping company name\n",
    "comp_name=driver.find_elements_by_xpath(\"//span[@class='company']\")\n",
    "for i in comp_name:\n",
    "    if i.text is None:\n",
    "        Company_name.append(\"--\")\n",
    "    else:\n",
    "        Company_name.append(i.text)\n",
    "Company_name       "
   ]
  },
  {
   "cell_type": "code",
   "execution_count": 8,
   "metadata": {},
   "outputs": [
    {
     "data": {
      "text/plain": [
       "['Bengaluru, Karnataka',\n",
       " 'Bengaluru, Karnataka',\n",
       " 'Bengaluru, Karnataka',\n",
       " 'Jayanagar, Bengaluru, Karnataka',\n",
       " 'Bengaluru, Karnataka',\n",
       " 'Bengaluru, Karnataka',\n",
       " 'Bengaluru, Karnataka',\n",
       " 'Bengaluru, Karnataka',\n",
       " 'Bengaluru, Karnataka',\n",
       " 'Bengaluru, Karnataka',\n",
       " 'Bengaluru, Karnataka',\n",
       " 'Bengaluru, Karnataka',\n",
       " 'Bengaluru, Karnataka',\n",
       " 'Bengaluru, Karnataka',\n",
       " 'Bengaluru, Karnataka']"
      ]
     },
     "execution_count": 8,
     "metadata": {},
     "output_type": "execute_result"
    }
   ],
   "source": [
    "#scraping location\n",
    "loc=driver.find_elements_by_xpath(\"//*[@class='location accessible-contrast-color-location']\")\n",
    "for i in loc:\n",
    "    if i.text is None:\n",
    "        Location.append(\"--\")\n",
    "    else:\n",
    "        Location.append(i.text)\n",
    "Location       "
   ]
  },
  {
   "cell_type": "code",
   "execution_count": 9,
   "metadata": {},
   "outputs": [],
   "source": [
    "#scraping salary\n",
    "#sal=driver.find_elements_by_xpath(\"//div[@class='salarySnippet salarySnippetDemphasizeholisticSalary']/span[1]/span[1]\")\n",
    "#for i in sal:\n",
    "    #if i.text is None:\n",
    "        #Salary.append(\"--\")\n",
    "    #else:\n",
    "    #Salary.append(i.text)\n",
    "#Salary[0:10]        "
   ]
  },
  {
   "cell_type": "code",
   "execution_count": 10,
   "metadata": {},
   "outputs": [
    {
     "data": {
      "text/plain": [
       "['7 days ago',\n",
       " '8 days ago',\n",
       " 'Today',\n",
       " '24 days ago',\n",
       " '1 day ago',\n",
       " 'Today',\n",
       " '2 days ago',\n",
       " 'Today',\n",
       " 'Just posted',\n",
       " 'Today',\n",
       " '2 days ago',\n",
       " '1 day ago',\n",
       " '2 days ago',\n",
       " '3 days ago',\n",
       " 'Today']"
      ]
     },
     "execution_count": 10,
     "metadata": {},
     "output_type": "execute_result"
    }
   ],
   "source": [
    "#scraping date of job post\n",
    "doj=driver.find_elements_by_xpath(\"//div[@class='result-link-bar']/span[1]\")\n",
    "for i in doj:\n",
    "    if i.text is None:\n",
    "        Date_of_jobpost.append(\"--\")\n",
    "    else:\n",
    "        Date_of_jobpost.append(i.text)\n",
    "Date_of_jobpost      "
   ]
  },
  {
   "cell_type": "code",
   "execution_count": 11,
   "metadata": {},
   "outputs": [
    {
     "name": "stdout",
     "output_type": "stream",
     "text": [
      "15 15 15 15\n"
     ]
    }
   ],
   "source": [
    "print(len(Job_title),len(Company_name),len(Location),len(Date_of_jobpost))"
   ]
  },
  {
   "cell_type": "code",
   "execution_count": 16,
   "metadata": {},
   "outputs": [
    {
     "data": {
      "text/html": [
       "<div>\n",
       "<style scoped>\n",
       "    .dataframe tbody tr th:only-of-type {\n",
       "        vertical-align: middle;\n",
       "    }\n",
       "\n",
       "    .dataframe tbody tr th {\n",
       "        vertical-align: top;\n",
       "    }\n",
       "\n",
       "    .dataframe thead th {\n",
       "        text-align: right;\n",
       "    }\n",
       "</style>\n",
       "<table border=\"1\" class=\"dataframe\">\n",
       "  <thead>\n",
       "    <tr style=\"text-align: right;\">\n",
       "      <th></th>\n",
       "      <th>Job_title</th>\n",
       "      <th>Company_name</th>\n",
       "      <th>Location</th>\n",
       "      <th>Date_of_jobpost</th>\n",
       "    </tr>\n",
       "  </thead>\n",
       "  <tbody>\n",
       "    <tr>\n",
       "      <th>0</th>\n",
       "      <td>Data Analyst</td>\n",
       "      <td>aapkapainter.com</td>\n",
       "      <td>Bengaluru, Karnataka</td>\n",
       "      <td>7 days ago</td>\n",
       "    </tr>\n",
       "    <tr>\n",
       "      <th>1</th>\n",
       "      <td>Data Analyst</td>\n",
       "      <td>Trane Technologies</td>\n",
       "      <td>Bengaluru, Karnataka</td>\n",
       "      <td>8 days ago</td>\n",
       "    </tr>\n",
       "    <tr>\n",
       "      <th>2</th>\n",
       "      <td>Senior Data Analyst</td>\n",
       "      <td>Ian Martin Group</td>\n",
       "      <td>Bengaluru, Karnataka</td>\n",
       "      <td>Today</td>\n",
       "    </tr>\n",
       "    <tr>\n",
       "      <th>3</th>\n",
       "      <td>Product Analyst</td>\n",
       "      <td>Bombinate Technologies (Koo App)</td>\n",
       "      <td>Jayanagar, Bengaluru, Karnataka</td>\n",
       "      <td>24 days ago</td>\n",
       "    </tr>\n",
       "    <tr>\n",
       "      <th>4</th>\n",
       "      <td>Data Analyst/BI Developer</td>\n",
       "      <td>Daemon software and services</td>\n",
       "      <td>Bengaluru, Karnataka</td>\n",
       "      <td>1 day ago</td>\n",
       "    </tr>\n",
       "    <tr>\n",
       "      <th>5</th>\n",
       "      <td>Data Analyst</td>\n",
       "      <td>Sims Recycling Solutions</td>\n",
       "      <td>Bengaluru, Karnataka</td>\n",
       "      <td>Today</td>\n",
       "    </tr>\n",
       "    <tr>\n",
       "      <th>6</th>\n",
       "      <td>Intern Data Analyst</td>\n",
       "      <td>Aimleap</td>\n",
       "      <td>Bengaluru, Karnataka</td>\n",
       "      <td>2 days ago</td>\n",
       "    </tr>\n",
       "    <tr>\n",
       "      <th>7</th>\n",
       "      <td>Data Analyst</td>\n",
       "      <td>Honeywell</td>\n",
       "      <td>Bengaluru, Karnataka</td>\n",
       "      <td>Today</td>\n",
       "    </tr>\n",
       "    <tr>\n",
       "      <th>8</th>\n",
       "      <td>Data Analyst</td>\n",
       "      <td>TARGET</td>\n",
       "      <td>Bengaluru, Karnataka</td>\n",
       "      <td>Just posted</td>\n",
       "    </tr>\n",
       "    <tr>\n",
       "      <th>9</th>\n",
       "      <td>Data analyst</td>\n",
       "      <td>Harman International</td>\n",
       "      <td>Bengaluru, Karnataka</td>\n",
       "      <td>Today</td>\n",
       "    </tr>\n",
       "    <tr>\n",
       "      <th>10</th>\n",
       "      <td>Data Analyst – Excel Operators</td>\n",
       "      <td>Aimleap- Outsource Big Data</td>\n",
       "      <td>Bengaluru, Karnataka</td>\n",
       "      <td>2 days ago</td>\n",
       "    </tr>\n",
       "    <tr>\n",
       "      <th>11</th>\n",
       "      <td>Product Analyst, Data &amp; Analytics</td>\n",
       "      <td>Cisco Systems</td>\n",
       "      <td>Bengaluru, Karnataka</td>\n",
       "      <td>1 day ago</td>\n",
       "    </tr>\n",
       "    <tr>\n",
       "      <th>12</th>\n",
       "      <td>Web Scraping – Data Analyst</td>\n",
       "      <td>Aimleap</td>\n",
       "      <td>Bengaluru, Karnataka</td>\n",
       "      <td>2 days ago</td>\n",
       "    </tr>\n",
       "    <tr>\n",
       "      <th>13</th>\n",
       "      <td>Associate - Data Analyst ( Growth)</td>\n",
       "      <td>Myntra.com</td>\n",
       "      <td>Bengaluru, Karnataka</td>\n",
       "      <td>3 days ago</td>\n",
       "    </tr>\n",
       "    <tr>\n",
       "      <th>14</th>\n",
       "      <td>Data Analytics Internship</td>\n",
       "      <td>Winuall</td>\n",
       "      <td>Bengaluru, Karnataka</td>\n",
       "      <td>Today</td>\n",
       "    </tr>\n",
       "  </tbody>\n",
       "</table>\n",
       "</div>"
      ],
      "text/plain": [
       "                             Job_title                      Company_name  \\\n",
       "0                         Data Analyst                  aapkapainter.com   \n",
       "1                         Data Analyst                Trane Technologies   \n",
       "2                  Senior Data Analyst                  Ian Martin Group   \n",
       "3                      Product Analyst  Bombinate Technologies (Koo App)   \n",
       "4            Data Analyst/BI Developer      Daemon software and services   \n",
       "5                         Data Analyst          Sims Recycling Solutions   \n",
       "6                  Intern Data Analyst                           Aimleap   \n",
       "7                         Data Analyst                         Honeywell   \n",
       "8                         Data Analyst                            TARGET   \n",
       "9                         Data analyst              Harman International   \n",
       "10      Data Analyst – Excel Operators       Aimleap- Outsource Big Data   \n",
       "11   Product Analyst, Data & Analytics                     Cisco Systems   \n",
       "12         Web Scraping – Data Analyst                           Aimleap   \n",
       "13  Associate - Data Analyst ( Growth)                        Myntra.com   \n",
       "14           Data Analytics Internship                           Winuall   \n",
       "\n",
       "                           Location Date_of_jobpost  \n",
       "0              Bengaluru, Karnataka      7 days ago  \n",
       "1              Bengaluru, Karnataka      8 days ago  \n",
       "2              Bengaluru, Karnataka           Today  \n",
       "3   Jayanagar, Bengaluru, Karnataka     24 days ago  \n",
       "4              Bengaluru, Karnataka       1 day ago  \n",
       "5              Bengaluru, Karnataka           Today  \n",
       "6              Bengaluru, Karnataka      2 days ago  \n",
       "7              Bengaluru, Karnataka           Today  \n",
       "8              Bengaluru, Karnataka     Just posted  \n",
       "9              Bengaluru, Karnataka           Today  \n",
       "10             Bengaluru, Karnataka      2 days ago  \n",
       "11             Bengaluru, Karnataka       1 day ago  \n",
       "12             Bengaluru, Karnataka      2 days ago  \n",
       "13             Bengaluru, Karnataka      3 days ago  \n",
       "14             Bengaluru, Karnataka           Today  "
      ]
     },
     "execution_count": 16,
     "metadata": {},
     "output_type": "execute_result"
    }
   ],
   "source": [
    "df=pd.DataFrame({\"Job_title\":Job_title,\"Company_name\":Company_name,\"Location\":Location,\"Date_of_jobpost\":Date_of_jobpost})\n",
    "df"
   ]
  },
  {
   "cell_type": "code",
   "execution_count": 20,
   "metadata": {},
   "outputs": [],
   "source": [
    "df.to_csv('df.csv')"
   ]
  },
  {
   "cell_type": "code",
   "execution_count": null,
   "metadata": {},
   "outputs": [],
   "source": []
  }
 ],
 "metadata": {
  "kernelspec": {
   "display_name": "Python 3",
   "language": "python",
   "name": "python3"
  },
  "language_info": {
   "codemirror_mode": {
    "name": "ipython",
    "version": 3
   },
   "file_extension": ".py",
   "mimetype": "text/x-python",
   "name": "python",
   "nbconvert_exporter": "python",
   "pygments_lexer": "ipython3",
   "version": "3.7.6"
  }
 },
 "nbformat": 4,
 "nbformat_minor": 4
}
